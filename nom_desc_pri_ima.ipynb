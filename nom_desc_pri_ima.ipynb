{
 "cells": [
  {
   "cell_type": "code",
   "execution_count": null,
   "id": "9b7150c2",
   "metadata": {},
   "outputs": [],
   "source": [
    "import requests\n",
    "from bs4 import Beautifulsoup\n",
    "import pandas as pd"
   ]
  },
  {
   "cell_type": "code",
   "execution_count": null,
   "id": "4a3b5cf0",
   "metadata": {},
   "outputs": [],
   "source": [
    "columns = {'name' : [],'price':[],'img url':[]}"
   ]
  },
  {
   "cell_type": "code",
   "execution_count": null,
   "id": "aeef985f",
   "metadata": {},
   "outputs": [],
   "source": [
    "url =\"https://www.jumia.ma/smartphones/\""
   ]
  },
  {
   "cell_type": "code",
   "execution_count": 2,
   "id": "e4c3ee76",
   "metadata": {},
   "outputs": [
    {
     "ename": "IndentationError",
     "evalue": "expected an indented block (2148528401.py, line 6)",
     "output_type": "error",
     "traceback": [
      "\u001b[1;36m  Input \u001b[1;32mIn [2]\u001b[1;36m\u001b[0m\n\u001b[1;33m    img = pt.find('a').find('div',{'class': 'img-c'}).find(\"img\",{'class':\"img\"})\u001b[0m\n\u001b[1;37m    ^\u001b[0m\n\u001b[1;31mIndentationError\u001b[0m\u001b[1;31m:\u001b[0m expected an indented block\n"
     ]
    }
   ],
   "source": [
    "for page in range(1,10):\n",
    "    r = requests.get(url +str(page))\n",
    "    soup = BeautifulSoup(r.content, 'html.parser')\n",
    "    a = soup.find('div',{'class':'vb row -i-ctr -j-ctr _head -bg-gy05 -gy5'})\n",
    "    for pt in a:\n",
    "    img = pt.find('a').find('div',{'class': 'img-c'}).find(\"img\",{'class':\"img\"})\n",
    "    name = pt.find('a').find('div',{'class':'info }).find('h3',{'class':'name'})\n",
    "    price= pt.find('a').find('div',{'class': info'}).find('div',{'class\":\"prc\"}}\n",
    "    columns['img url']. append(img.get('data-src'))\n",
    "    columns['name'].append(name.text)\n",
    "    columns['price'].append(price.text)\n",
    "                                    \n",
    "    pd.DataFrame(columns).to_excel('data.xlsx')\n",
    "\n",
    "\n",
    "    "
   ]
  },
  {
   "cell_type": "code",
   "execution_count": null,
   "id": "ddfda35b",
   "metadata": {},
   "outputs": [],
   "source": []
  },
  {
   "cell_type": "code",
   "execution_count": null,
   "id": "aa419673",
   "metadata": {},
   "outputs": [],
   "source": []
  }
 ],
 "metadata": {
  "kernelspec": {
   "display_name": "Python 3 (ipykernel)",
   "language": "python",
   "name": "python3"
  },
  "language_info": {
   "codemirror_mode": {
    "name": "ipython",
    "version": 3
   },
   "file_extension": ".py",
   "mimetype": "text/x-python",
   "name": "python",
   "nbconvert_exporter": "python",
   "pygments_lexer": "ipython3",
   "version": "3.9.12"
  }
 },
 "nbformat": 4,
 "nbformat_minor": 5
}
